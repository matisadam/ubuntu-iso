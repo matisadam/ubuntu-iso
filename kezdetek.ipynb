{
 "cells": [
  {
   "cell_type": "markdown",
   "metadata": {},
   "source": [
    "## VirtualBox telepítés:"
   ]
  },
  {
   "cell_type": "code",
   "execution_count": 16,
   "metadata": {
    "scrolled": true
   },
   "outputs": [
    {
     "name": "stdout",
     "output_type": "stream",
     "text": [
      "Overwriting ./virtualbox-install.sh\n"
     ]
    }
   ],
   "source": [
    "%%file ./virtualbox-install.sh\n",
    "#!/bin/sh\n",
    "sudo apt-get update && sudo apt-get dist-upgrade && sudo apt-get autoremove\n",
    "sudo apt-get -y install gcc make linux-headers-$(uname -r) dkms\n",
    "wget -q https://www.virtualbox.org/download/oracle_vbox_2016.asc -O- | sudo apt-key add -\n",
    "wget -q https://www.virtualbox.org/download/oracle_vbox.asc -O- | sudo apt-key add -\n",
    "sudo sh -c 'echo \"deb http://download.virtualbox.org/virtualbox/debian $(lsb_release -sc) contrib\" >> /etc/apt/sources.list'\n",
    "sudo apt-get update\n",
    "sudo apt-get install virtualbox-5.2\n",
    "VBoxManage -v\n",
    " https://download.virtualbox.org/virtualbox/5.2.8/\n",
    "\n",
    "curl -O http://download.virtualbox.org/virtualbox/5.2.8/Oracle_VM_VirtualBox_Extension_Pack-5.2.8.vbox-extpack\n",
    "sudo VBoxManage extpack install Oracle_VM_VirtualBox_Extension_Pack-5.2.8.vbox-extpack\n",
    "VBoxManage list extpacks\n"
   ]
  },
  {
   "cell_type": "code",
   "execution_count": null,
   "metadata": {},
   "outputs": [],
   "source": [
    "%%bash\n",
    "chmod +x ./virtualbox-install.sh\n",
    "xterm -e \"./virtualbox-install.sh\""
   ]
  },
  {
   "cell_type": "markdown",
   "metadata": {},
   "source": [
    "***"
   ]
  },
  {
   "cell_type": "markdown",
   "metadata": {},
   "source": [
    "## Felügyelet nélküli ubuntu 16.04 telepítő (iso) készítése:"
   ]
  },
  {
   "cell_type": "code",
   "execution_count": null,
   "metadata": {},
   "outputs": [],
   "source": [
    "%%sh\n",
    "cd ~\n",
    "#rm -f -R ~/ubuntu-iso\n",
    "pwd\n",
    "git clone https://github.com/englert/ubuntu-iso.git\n",
    "cd ~/ubuntu-iso\n",
    "gnome-terminal -e \"sudo ./create-unattended-iso.sh\"\n"
   ]
  },
  {
   "cell_type": "markdown",
   "metadata": {},
   "source": [
    "***"
   ]
  },
  {
   "cell_type": "markdown",
   "metadata": {},
   "source": [
    "## Ubuntu szerver telepítése Virtualboxon:"
   ]
  },
  {
   "cell_type": "markdown",
   "metadata": {},
   "source": [
    "\n",
    "\n"
   ]
  },
  {
   "cell_type": "code",
   "execution_count": null,
   "metadata": {},
   "outputs": [],
   "source": [
    "%%sh\n",
    "VM=\"ubu\"\n",
    "RAM=\"2048\"\n",
    "VRAM=\"16\"\n",
    "HDD=\"8192\"\n",
    "LAN=\"enp3s0\"\n",
    "ISO=\"ubuntuserver.iso\"\n",
    "VMs=\"VirtualBox VMs\"\n",
    "cd ~\n",
    "VBoxManage createvm --name $VM --ostype \"Linux_64\" --register\n",
    "VBoxManage modifyvm $VM --nic1 bridged --bridgeadapter1 $LAN\n",
    "VBoxManage createhd --filename \"$VMs/$VM/$VM.vdi\" --size $HDD\n",
    "VBoxManage storagectl $VM --name \"SATA Controller\" --add sata\n",
    "VBoxManage storageattach $VM --storagectl \"SATA Controller\" --port 0 --device 0 --type hdd --medium \"$VMs/$VM/$VM.vdi\"\n",
    "VBoxManage storagectl $VM --name \"IDE Controller\" --add ide\n",
    "VBoxManage storageattach $VM --storagectl \"IDE Controller\" --port 0 --device 0 --type dvddrive --medium $ISO\n",
    "VBoxManage modifyvm $VM --ioapic on\n",
    "VBoxManage modifyvm $VM --boot1 dvd --boot2 disk --boot3 none --boot4 none\n",
    "VBoxManage modifyvm $VM --memory $RAM --vram $VRAM"
   ]
  },
  {
   "cell_type": "code",
   "execution_count": null,
   "metadata": {},
   "outputs": [],
   "source": [
    "%%sh\n",
    "VM=\"ubu\"\n",
    "VBoxManage startvm $VM --type headless"
   ]
  },
  {
   "cell_type": "markdown",
   "metadata": {},
   "source": [
    "***"
   ]
  },
  {
   "cell_type": "markdown",
   "metadata": {},
   "source": [
    "## Ansible install:"
   ]
  },
  {
   "cell_type": "code",
   "execution_count": 17,
   "metadata": {},
   "outputs": [
    {
     "name": "stdout",
     "output_type": "stream",
     "text": [
      "Writing ./ansible-install.sh\n"
     ]
    }
   ],
   "source": [
    "%%file ./ansible-install.sh\n",
    "#!/bin/bash\n",
    "sudo apt-get update\n",
    "sudo apt-get -y install software-properties-common\n",
    "sudo apt-add-repository -y ppa:ansible/ansible\n",
    "sudo apt-get update\n",
    "sudo apt-get -y install ansible"
   ]
  },
  {
   "cell_type": "code",
   "execution_count": 18,
   "metadata": {},
   "outputs": [],
   "source": [
    "%%sh\n",
    "chmod +x ./ansible-install.sh\n",
    "xterm -e \"./ansible-install.sh\""
   ]
  },
  {
   "cell_type": "code",
   "execution_count": 19,
   "metadata": {},
   "outputs": [
    {
     "name": "stdout",
     "output_type": "stream",
     "text": [
      "ansible 2.4.3.0\r\n",
      "  config file = /etc/ansible/ansible.cfg\r\n",
      "  configured module search path = ['/home/sis/.ansible/plugins/modules', '/usr/share/ansible/plugins/modules']\r\n",
      "  ansible python module location = /usr/local/lib/python3.5/dist-packages/ansible\r\n",
      "  executable location = /usr/local/bin/ansible\r\n",
      "  python version = 3.5.2 (default, Nov 23 2017, 16:37:01) [GCC 5.4.0 20160609]\r\n"
     ]
    }
   ],
   "source": [
    "!ansible --version"
   ]
  },
  {
   "cell_type": "markdown",
   "metadata": {},
   "source": [
    "***"
   ]
  },
  {
   "cell_type": "code",
   "execution_count": 20,
   "metadata": {},
   "outputs": [
    {
     "name": "stdout",
     "output_type": "stream",
     "text": [
      "Overwriting ./hosts\n"
     ]
    }
   ],
   "source": [
    "%%file ./hosts\n",
    "localhost              ansible_connection=local\n",
    "\n",
    "v112 ansible_host=192.168.0.112\n",
    "\n",
    "u100 ansible_host=192.168.0.100 \n",
    "u101 ansible_host=192.168.0.101 \n",
    "u102 ansible_host=192.168.0.102 \n",
    "u103 ansible_host=192.168.0.103 \n",
    "u104 ansible_host=192.168.0.104 \n",
    "u105 ansible_host=192.168.0.105 \n",
    "u106 ansible_host=192.168.0.106 \n",
    "u107 ansible_host=192.168.0.107 \n",
    "u108 ansible_host=192.168.0.108 \n",
    "u109 ansible_host=192.168.0.109 \n",
    "u110 ansible_host=192.168.0.110 \n",
    "u111 ansible_host=192.168.0.111 \n",
    "u112 ansible_host=192.168.0.112 \n",
    "u113 ansible_host=192.168.0.113\n",
    "u114 ansible_host=192.168.0.114 \n",
    "u115 ansible_host=192.168.0.115 \n",
    "u116 ansible_host=192.168.0.116 \n",
    "u117 ansible_host=192.168.0.117 \n",
    "u118 ansible_host=192.168.0.118 \n",
    "u119 ansible_host=192.168.0.119 \n",
    "u120 ansible_host=192.168.0.120 \n",
    "u121 ansible_host=192.168.0.121 \n",
    "u122 ansible_host=192.168.0.122 \n",
    "u123 ansible_host=192.168.0.123 \n",
    "u124 ansible_host=192.168.0.124 \n",
    "u125 ansible_host=192.168.0.125 \n",
    "u126 ansible_host=192.168.0.126 \n",
    "u127 ansible_host=192.168.0.127 \n",
    "u128 ansible_host=192.168.0.128 \n",
    "u129 ansible_host=192.168.0.129 \n",
    "u130 ansible_host=192.168.0.130 \n",
    "\n",
    "amazon1 ansible_host=52.59.217.167\n",
    "\n",
    "docker1 ansible_host=www.unibox.hu\n",
    "\n",
    "[vbox]\n",
    "v112\n",
    "[vbox:vars]\n",
    "ansible_port=22 \n",
    "ansible_connection=ssh \n",
    "ansible_python_interpreter=/usr/bin/python3\n",
    "ansible_user=ubuntu\n",
    "\n",
    "\n",
    "[tim]\n",
    "u[101:130]\n",
    "[tim:vars]\n",
    "ansible_port=22 \n",
    "ansible_connection=ssh \n",
    "ansible_python_interpreter=/usr/bin/python3\n",
    "ansible_user=sis\n",
    "\n",
    "\n",
    "[ubuntu]\n",
    "server1\n",
    "\n",
    "[ubuntu:vars]\n",
    "ansible_port=22\n",
    "ansible_connection=ssh\n",
    "ansible_python_interpreter=/usr/bin/python3\n",
    "\n",
    "[amazon]\n",
    "amazon1\n",
    "\n",
    "[amazon:vars]\n",
    "ansible_port=22\n",
    "ansible_connection=ssh\n",
    "ansible_user=ubuntu\n",
    "ansible_ssh_private_key_file=/home/sis/.ssh/amazon1.pem\n",
    "ansible_python_interpreter=/usr/bin/python3\n",
    "\n"
   ]
  },
  {
   "cell_type": "code",
   "execution_count": 21,
   "metadata": {},
   "outputs": [
    {
     "name": "stdout",
     "output_type": "stream",
     "text": [
      "Writing ./ansible.cfg\n"
     ]
    }
   ],
   "source": [
    "%%file ./ansible.cfg\n",
    "[defaults]\n",
    "host_key_checking = false"
   ]
  },
  {
   "cell_type": "code",
   "execution_count": 22,
   "metadata": {},
   "outputs": [
    {
     "name": "stdout",
     "output_type": "stream",
     "text": [
      "Overwriting ./upload_ssh-keys.yml\n"
     ]
    }
   ],
   "source": [
    "%%file ./upload_ssh-keys.yml\n",
    "---\n",
    "- hosts: v112\n",
    "  remote_user: ubuntu\n",
    "  tasks:\n",
    "  - name: upload ssh key                \n",
    "    authorized_key:\n",
    "      user: ubuntu\n",
    "      state: present\n",
    "      manage_dir: yes\n",
    "      key: https://github.com/englert.keys\n"
   ]
  },
  {
   "cell_type": "code",
   "execution_count": null,
   "metadata": {},
   "outputs": [],
   "source": [
    "%%bash\n",
    "xterm -e \"ansible-playbook -i ./hosts ./upload_ssh-keys.yml -k\""
   ]
  },
  {
   "cell_type": "code",
   "execution_count": 23,
   "metadata": {},
   "outputs": [
    {
     "name": "stdout",
     "output_type": "stream",
     "text": [
      "Writing ./sudo-group.j2\n"
     ]
    }
   ],
   "source": [
    "%%file ./sudo-group.j2\n",
    "# {{ ansible_managed }}\n",
    "%sudo ALL=(ALL) NOPASSWD:ALL"
   ]
  },
  {
   "cell_type": "code",
   "execution_count": 24,
   "metadata": {},
   "outputs": [
    {
     "name": "stdout",
     "output_type": "stream",
     "text": [
      "Writing ./passwordless-sudo.yml\n"
     ]
    }
   ],
   "source": [
    "%%file ./passwordless-sudo.yml\n",
    "---\n",
    "- hosts: v112\n",
    "  #remote_user: ubuntu\n",
    "  tasks:\n",
    "\n",
    "  - name:  Legyen sudo csoport\n",
    "    group:\n",
    "      name: sudo\n",
    "      state: present\n",
    "\n",
    "  - name: A sudo csoport felhasználói jelszó nélkül használhatják a sudo-t.\n",
    "    template:\n",
    "      src: sudo-group.j2\n",
    "      dest: /etc/sudoers.d/sudo-group\n",
    "      mode: 0440"
   ]
  },
  {
   "cell_type": "code",
   "execution_count": 25,
   "metadata": {},
   "outputs": [
    {
     "name": "stdout",
     "output_type": "stream",
     "text": [
      "\u001b[0;32mamazon1 | SUCCESS => {\u001b[0m\r\n",
      "\u001b[0;32m    \"cache_update_time\": 1521361316,\u001b[0m\r\n",
      "\u001b[0;32m    \"cache_updated\": false,\u001b[0m\r\n",
      "\u001b[0;32m    \"changed\": false\u001b[0m\r\n",
      "\u001b[0;32m}\u001b[0m\r\n"
     ]
    }
   ],
   "source": [
    "!ansible -i ./hosts --become -m apt -a\"name=mc state=present\" amazon1"
   ]
  },
  {
   "cell_type": "code",
   "execution_count": 26,
   "metadata": {},
   "outputs": [
    {
     "name": "stdout",
     "output_type": "stream",
     "text": [
      "\u001b[0;34mansible 2.4.3.0\u001b[0m\n",
      "\u001b[0;34m  config file = /home/sis/ubuntu-iso/ansible.cfg\u001b[0m\n",
      "\u001b[0;34m  configured module search path = ['/home/sis/.ansible/plugins/modules', '/usr/share/ansible/plugins/modules']\u001b[0m\n",
      "\u001b[0;34m  ansible python module location = /usr/local/lib/python3.5/dist-packages/ansible\u001b[0m\n",
      "\u001b[0;34m  executable location = /usr/local/bin/ansible\u001b[0m\n",
      "\u001b[0;34m  python version = 3.5.2 (default, Nov 23 2017, 16:37:01) [GCC 5.4.0 20160609]\u001b[0m\n",
      "\u001b[0;34mUsing /home/sis/ubuntu-iso/ansible.cfg as config file\u001b[0m\n",
      "\u001b[0;34mParsed /home/sis/ubuntu-iso/hosts inventory source with ini plugin\u001b[0m\n",
      "\u001b[0;34mMETA: ran handlers\u001b[0m\n",
      "\u001b[0;34mUsing module file /usr/local/lib/python3.5/dist-packages/ansible/modules/system/ping.py\u001b[0m\n",
      "\u001b[0;34m<52.59.217.167> ESTABLISH SSH CONNECTION FOR USER: ubuntu\u001b[0m\n",
      "\u001b[0;34m<52.59.217.167> SSH: EXEC ssh -C -o ControlMaster=auto -o ControlPersist=60s -o StrictHostKeyChecking=no -o Port=22 -o 'IdentityFile=\"/home/sis/.ssh/amazon1.pem\"' -o KbdInteractiveAuthentication=no -o PreferredAuthentications=gssapi-with-mic,gssapi-keyex,hostbased,publickey -o PasswordAuthentication=no -o User=ubuntu -o ConnectTimeout=10 -o ControlPath=/home/sis/.ansible/cp/75646df4a7 52.59.217.167 '/bin/sh -c '\"'\"'echo ~ && sleep 0'\"'\"''\u001b[0m\n",
      "\u001b[0;34m<52.59.217.167> (0, b'/home/ubuntu\\n', b'')\u001b[0m\n",
      "\u001b[0;34m<52.59.217.167> ESTABLISH SSH CONNECTION FOR USER: ubuntu\u001b[0m\n",
      "\u001b[0;34m<52.59.217.167> SSH: EXEC ssh -C -o ControlMaster=auto -o ControlPersist=60s -o StrictHostKeyChecking=no -o Port=22 -o 'IdentityFile=\"/home/sis/.ssh/amazon1.pem\"' -o KbdInteractiveAuthentication=no -o PreferredAuthentications=gssapi-with-mic,gssapi-keyex,hostbased,publickey -o PasswordAuthentication=no -o User=ubuntu -o ConnectTimeout=10 -o ControlPath=/home/sis/.ansible/cp/75646df4a7 52.59.217.167 '/bin/sh -c '\"'\"'( umask 77 && mkdir -p \"` echo /home/ubuntu/.ansible/tmp/ansible-tmp-1521371243.7092059-106617007190171 `\" && echo ansible-tmp-1521371243.7092059-106617007190171=\"` echo /home/ubuntu/.ansible/tmp/ansible-tmp-1521371243.7092059-106617007190171 `\" ) && sleep 0'\"'\"''\u001b[0m\n",
      "\u001b[0;34m<52.59.217.167> (0, b'ansible-tmp-1521371243.7092059-106617007190171=/home/ubuntu/.ansible/tmp/ansible-tmp-1521371243.7092059-106617007190171\\n', b'')\u001b[0m\n",
      "\u001b[0;34m<52.59.217.167> PUT /tmp/tmpvpnn5r6i TO /home/ubuntu/.ansible/tmp/ansible-tmp-1521371243.7092059-106617007190171/ping.py\u001b[0m\n",
      "\u001b[0;34m<52.59.217.167> SSH: EXEC sftp -b - -C -o ControlMaster=auto -o ControlPersist=60s -o StrictHostKeyChecking=no -o Port=22 -o 'IdentityFile=\"/home/sis/.ssh/amazon1.pem\"' -o KbdInteractiveAuthentication=no -o PreferredAuthentications=gssapi-with-mic,gssapi-keyex,hostbased,publickey -o PasswordAuthentication=no -o User=ubuntu -o ConnectTimeout=10 -o ControlPath=/home/sis/.ansible/cp/75646df4a7 '[52.59.217.167]'\u001b[0m\n",
      "\u001b[0;34m<52.59.217.167> (0, b'sftp> put /tmp/tmpvpnn5r6i /home/ubuntu/.ansible/tmp/ansible-tmp-1521371243.7092059-106617007190171/ping.py\\n', b'')\u001b[0m\n",
      "\u001b[0;34m<52.59.217.167> ESTABLISH SSH CONNECTION FOR USER: ubuntu\u001b[0m\n",
      "\u001b[0;34m<52.59.217.167> SSH: EXEC ssh -C -o ControlMaster=auto -o ControlPersist=60s -o StrictHostKeyChecking=no -o Port=22 -o 'IdentityFile=\"/home/sis/.ssh/amazon1.pem\"' -o KbdInteractiveAuthentication=no -o PreferredAuthentications=gssapi-with-mic,gssapi-keyex,hostbased,publickey -o PasswordAuthentication=no -o User=ubuntu -o ConnectTimeout=10 -o ControlPath=/home/sis/.ansible/cp/75646df4a7 52.59.217.167 '/bin/sh -c '\"'\"'chmod u+x /home/ubuntu/.ansible/tmp/ansible-tmp-1521371243.7092059-106617007190171/ /home/ubuntu/.ansible/tmp/ansible-tmp-1521371243.7092059-106617007190171/ping.py && sleep 0'\"'\"''\u001b[0m\n",
      "\u001b[0;34m<52.59.217.167> (0, b'', b'')\u001b[0m\n",
      "\u001b[0;34m<52.59.217.167> ESTABLISH SSH CONNECTION FOR USER: ubuntu\u001b[0m\n",
      "\u001b[0;34m<52.59.217.167> SSH: EXEC ssh -C -o ControlMaster=auto -o ControlPersist=60s -o StrictHostKeyChecking=no -o Port=22 -o 'IdentityFile=\"/home/sis/.ssh/amazon1.pem\"' -o KbdInteractiveAuthentication=no -o PreferredAuthentications=gssapi-with-mic,gssapi-keyex,hostbased,publickey -o PasswordAuthentication=no -o User=ubuntu -o ConnectTimeout=10 -o ControlPath=/home/sis/.ansible/cp/75646df4a7 -tt 52.59.217.167 '/bin/sh -c '\"'\"'sudo -H -S -n -u root /bin/sh -c '\"'\"'\"'\"'\"'\"'\"'\"'echo BECOME-SUCCESS-ynucftehsjimgfkhzheoatirsspqggno; /usr/bin/python3 /home/ubuntu/.ansible/tmp/ansible-tmp-1521371243.7092059-106617007190171/ping.py; rm -rf \"/home/ubuntu/.ansible/tmp/ansible-tmp-1521371243.7092059-106617007190171/\" > /dev/null 2>&1'\"'\"'\"'\"'\"'\"'\"'\"' && sleep 0'\"'\"''\u001b[0m\n",
      "\u001b[0;34m<52.59.217.167> (0, b'\\r\\n{\"invocation\": {\"module_args\": {\"data\": \"pong\"}}, \"ping\": \"pong\"}\\r\\n', b'Shared connection to 52.59.217.167 closed.\\r\\n')\u001b[0m\n",
      "\u001b[0;32mamazon1 | SUCCESS => {\u001b[0m\n",
      "\u001b[0;32m    \"changed\": false,\u001b[0m\n",
      "\u001b[0;32m    \"invocation\": {\u001b[0m\n",
      "\u001b[0;32m        \"module_args\": {\u001b[0m\n",
      "\u001b[0;32m            \"data\": \"pong\"\u001b[0m\n",
      "\u001b[0;32m        }\u001b[0m\n",
      "\u001b[0;32m    },\u001b[0m\n",
      "\u001b[0;32m    \"ping\": \"pong\"\u001b[0m\n",
      "\u001b[0;32m}\u001b[0m\n",
      "\u001b[0;34mMETA: ran handlers\u001b[0m\n",
      "\u001b[0;34mMETA: ran handlers\u001b[0m\n"
     ]
    }
   ],
   "source": [
    "!ansible -i ./hosts --become -m ping -vvv amazon1"
   ]
  },
  {
   "cell_type": "code",
   "execution_count": 27,
   "metadata": {},
   "outputs": [
    {
     "name": "stdout",
     "output_type": "stream",
     "text": [
      "Writing ./index.html\n"
     ]
    }
   ],
   "source": [
    "%%file ./index.html\n",
    "<html>\n",
    "valami\n",
    "</html>"
   ]
  },
  {
   "cell_type": "code",
   "execution_count": 28,
   "metadata": {},
   "outputs": [
    {
     "name": "stdout",
     "output_type": "stream",
     "text": [
      "Writing ./nginx.yml\n"
     ]
    }
   ],
   "source": [
    "%%file ./nginx.yml\n",
    "---\n",
    "- name: Install nginx\n",
    "  hosts: amazon1\n",
    "  become: true\n",
    "\n",
    "  tasks:\n",
    "  \n",
    "  - name: Install nginx\n",
    "    apt:\n",
    "      name: nginx\n",
    "      state: present\n",
    "\n",
    "  - name: Insert Index Page\n",
    "    template:\n",
    "      src: index.html\n",
    "      dest: /usr/share/nginx/html/index.html\n",
    "\n",
    "  - name: Start NGiNX\n",
    "    service:\n",
    "      name: nginx\n",
    "      state: started\n"
   ]
  },
  {
   "cell_type": "code",
   "execution_count": 29,
   "metadata": {},
   "outputs": [
    {
     "name": "stdout",
     "output_type": "stream",
     "text": [
      "\n",
      "PLAY [Install nginx] ***********************************************************\n",
      "\n",
      "TASK [Gathering Facts] *********************************************************\n",
      "\u001b[0;32mok: [amazon1]\u001b[0m\n",
      "\n",
      "TASK [Install nginx] ***********************************************************\n",
      "\u001b[0;32mok: [amazon1]\u001b[0m\n",
      "\n",
      "TASK [Insert Index Page] *******************************************************\n",
      "\u001b[0;32mok: [amazon1]\u001b[0m\n",
      "\n",
      "TASK [Start NGiNX] *************************************************************\n",
      "\u001b[0;32mok: [amazon1]\u001b[0m\n",
      "\n",
      "PLAY RECAP *********************************************************************\n",
      "\u001b[0;32mamazon1\u001b[0m                    : \u001b[0;32mok=4   \u001b[0m changed=0    unreachable=0    failed=0   \n",
      "\n"
     ]
    }
   ],
   "source": [
    "!ansible-playbook -i ./hosts ./nginx.yml -l amazon"
   ]
  },
  {
   "cell_type": "code",
   "execution_count": null,
   "metadata": {},
   "outputs": [],
   "source": []
  }
 ],
 "metadata": {
  "kernelspec": {
   "display_name": "Python 3",
   "language": "python",
   "name": "python3"
  },
  "language_info": {
   "codemirror_mode": {
    "name": "ipython",
    "version": 3
   },
   "file_extension": ".py",
   "mimetype": "text/x-python",
   "name": "python",
   "nbconvert_exporter": "python",
   "pygments_lexer": "ipython3",
   "version": "3.5.2"
  }
 },
 "nbformat": 4,
 "nbformat_minor": 2
}
