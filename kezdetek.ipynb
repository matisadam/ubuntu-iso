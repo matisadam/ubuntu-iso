{
 "cells": [
  {
   "cell_type": "markdown",
   "metadata": {},
   "source": [
    "***\n",
    "### Jelszó nélküli sudo a localhoston:"
   ]
  },
  {
   "cell_type": "code",
   "execution_count": null,
   "metadata": {},
   "outputs": [],
   "source": [
    "%%file ./sudo-group.j2\n",
    "# {{ ansible_managed }}\n",
    "%sudo ALL=(ALL) NOPASSWD:ALL"
   ]
  },
  {
   "cell_type": "code",
   "execution_count": null,
   "metadata": {},
   "outputs": [],
   "source": [
    "%%sh\n",
    "xterm -e \"sudo cp ./sudo-group.j2 /etc/sudoers.d/95-sudo-group &&sudo chmod 0440 /etc/sudoers.d/95-sudo-group\""
   ]
  },
  {
   "cell_type": "markdown",
   "metadata": {},
   "source": [
    "***\n",
    "### GRUB beállítása\n",
    "sudo add-apt-repository ppa:danielrichter2007/grub-customizer && sudo apt-get update && sudo apt-get install grub-customizer"
   ]
  },
  {
   "cell_type": "markdown",
   "metadata": {},
   "source": [
    "***\n",
    "### VirtualBox telepítés:"
   ]
  },
  {
   "cell_type": "code",
   "execution_count": null,
   "metadata": {
    "scrolled": true
   },
   "outputs": [],
   "source": [
    "%%file ./virtualbox-install.sh\n",
    "#!/bin/sh\n",
    "sudo apt-get update && sudo apt-get dist-upgrade && sudo apt-get autoremove\n",
    "sudo apt-get -y install gcc make linux-headers-$(uname -r) dkms\n",
    "wget -q https://www.virtualbox.org/download/oracle_vbox_2016.asc -O- | sudo apt-key add -\n",
    "wget -q https://www.virtualbox.org/download/oracle_vbox.asc -O- | sudo apt-key add -\n",
    "sudo sh -c 'echo \"deb http://download.virtualbox.org/virtualbox/debian $(lsb_release -sc) contrib\" >> /etc/apt/sources.list'\n",
    "sudo apt-get update\n",
    "sudo apt-get install virtualbox-5.2\n",
    "VBoxManage -v\n",
    " https://download.virtualbox.org/virtualbox/5.2.8/\n",
    "\n",
    "curl -O http://download.virtualbox.org/virtualbox/5.2.8/Oracle_VM_VirtualBox_Extension_Pack-5.2.8.vbox-extpack\n",
    "sudo VBoxManage extpack install Oracle_VM_VirtualBox_Extension_Pack-5.2.8.vbox-extpack\n",
    "VBoxManage list extpacks\n"
   ]
  },
  {
   "cell_type": "code",
   "execution_count": null,
   "metadata": {},
   "outputs": [],
   "source": [
    "%%sh\n",
    "chmod +x ./virtualbox-install.sh\n",
    "xterm -e \"./virtualbox-install.sh\""
   ]
  },
  {
   "cell_type": "markdown",
   "metadata": {},
   "source": [
    "***\n",
    "### Felügyelet nélküli ubuntu 16.04 telepítő (iso) készítése:"
   ]
  },
  {
   "cell_type": "code",
   "execution_count": null,
   "metadata": {},
   "outputs": [],
   "source": [
    "%%sh\n",
    "cd ~\n",
    "#rm -f -R ~/ubuntu-iso\n",
    "pwd\n",
    "git clone https://github.com/englert/ubuntu-iso.git\n",
    "cd ~/ubuntu-iso\n",
    "gnome-terminal -e \"sudo ./create-unattended-iso.sh\"\n"
   ]
  },
  {
   "cell_type": "markdown",
   "metadata": {},
   "source": [
    "***\n",
    "### Ubuntu szerver telepítése Virtualboxon:"
   ]
  },
  {
   "cell_type": "markdown",
   "metadata": {},
   "source": [
    "\n",
    "\n"
   ]
  },
  {
   "cell_type": "code",
   "execution_count": null,
   "metadata": {},
   "outputs": [],
   "source": [
    "%%sh\n",
    "VM=\"ubu\"\n",
    "RAM=\"2048\"\n",
    "VRAM=\"16\"\n",
    "HDD=\"8192\"\n",
    "LAN=\"enp3s0\"\n",
    "ISO=\"ubuntuserver.iso\"\n",
    "VMs=\"VirtualBox VMs\"\n",
    "cd ~\n",
    "VBoxManage createvm --name $VM --ostype \"Linux_64\" --register\n",
    "VBoxManage modifyvm $VM --nic1 bridged --bridgeadapter1 $LAN\n",
    "VBoxManage createhd --filename \"$VMs/$VM/$VM.vdi\" --size $HDD\n",
    "VBoxManage storagectl $VM --name \"SATA Controller\" --add sata\n",
    "VBoxManage storageattach $VM --storagectl \"SATA Controller\" --port 0 --device 0 --type hdd --medium \"$VMs/$VM/$VM.vdi\"\n",
    "VBoxManage storagectl $VM --name \"IDE Controller\" --add ide\n",
    "VBoxManage storageattach $VM --storagectl \"IDE Controller\" --port 0 --device 0 --type dvddrive --medium $ISO\n",
    "VBoxManage modifyvm $VM --ioapic on\n",
    "VBoxManage modifyvm $VM --boot1 dvd --boot2 disk --boot3 none --boot4 none\n",
    "VBoxManage modifyvm $VM --memory $RAM --vram $VRAM"
   ]
  },
  {
   "cell_type": "code",
   "execution_count": null,
   "metadata": {},
   "outputs": [],
   "source": [
    "%%sh\n",
    "VM=\"ubu\"\n",
    "VBoxManage startvm $VM --type headless"
   ]
  },
  {
   "cell_type": "markdown",
   "metadata": {},
   "source": [
    "***\n",
    "### Ansible install:"
   ]
  },
  {
   "cell_type": "code",
   "execution_count": null,
   "metadata": {},
   "outputs": [],
   "source": [
    "%%file ./ansible-install.sh\n",
    "#!/bin/bash\n",
    "sudo apt-get update\n",
    "sudo apt-get -y install software-properties-common\n",
    "sudo apt-add-repository -y ppa:ansible/ansible\n",
    "sudo apt-get update\n",
    "sudo apt-get -y install ansible"
   ]
  },
  {
   "cell_type": "code",
   "execution_count": null,
   "metadata": {},
   "outputs": [],
   "source": [
    "%%sh\n",
    "chmod +x ./ansible-install.sh\n",
    "xterm -e \"./ansible-install.sh\""
   ]
  },
  {
   "cell_type": "code",
   "execution_count": null,
   "metadata": {},
   "outputs": [],
   "source": [
    "!ansible --version"
   ]
  },
  {
   "cell_type": "markdown",
   "metadata": {},
   "source": [
    "***\n",
    "### ansible.cfg:"
   ]
  },
  {
   "cell_type": "code",
   "execution_count": null,
   "metadata": {},
   "outputs": [],
   "source": [
    "%%file ./ansible.cfg\n",
    "[defaults]\n",
    "host_key_checking = false"
   ]
  },
  {
   "cell_type": "markdown",
   "metadata": {},
   "source": [
    "***\n",
    "### Ansible inventory (hosts):"
   ]
  },
  {
   "cell_type": "code",
   "execution_count": null,
   "metadata": {},
   "outputs": [],
   "source": [
    "%%file ./hosts\n",
    "localhost              ansible_connection=local\n",
    "\n",
    "v112 ansible_host=192.168.0.112\n",
    "\n",
    "u100 ansible_host=192.168.0.100 \n",
    "u101 ansible_host=192.168.0.101 \n",
    "u102 ansible_host=192.168.0.102 \n",
    "u103 ansible_host=192.168.0.103 \n",
    "u104 ansible_host=192.168.0.104 \n",
    "u105 ansible_host=192.168.0.105 \n",
    "u106 ansible_host=192.168.0.106 \n",
    "u107 ansible_host=192.168.0.107 \n",
    "u108 ansible_host=192.168.0.108 \n",
    "u109 ansible_host=192.168.0.109 \n",
    "u110 ansible_host=192.168.0.110 \n",
    "u111 ansible_host=192.168.0.111 \n",
    "u112 ansible_host=192.168.0.112 \n",
    "u113 ansible_host=192.168.0.113\n",
    "u114 ansible_host=192.168.0.114 \n",
    "u115 ansible_host=192.168.0.115 \n",
    "u116 ansible_host=192.168.0.116 \n",
    "u117 ansible_host=192.168.0.117 \n",
    "u118 ansible_host=192.168.0.118 \n",
    "u119 ansible_host=192.168.0.119 \n",
    "u120 ansible_host=192.168.0.120 \n",
    "u121 ansible_host=192.168.0.121 \n",
    "u122 ansible_host=192.168.0.122 \n",
    "u123 ansible_host=192.168.0.123 \n",
    "u124 ansible_host=192.168.0.124 \n",
    "u125 ansible_host=192.168.0.125 \n",
    "u126 ansible_host=192.168.0.126 \n",
    "u127 ansible_host=192.168.0.127 \n",
    "u128 ansible_host=192.168.0.128 \n",
    "u129 ansible_host=192.168.0.129 \n",
    "u130 ansible_host=192.168.0.130 \n",
    "\n",
    "amazon1 ansible_host=52.59.217.167\n",
    "\n",
    "docker1 ansible_host=www.unibox.hu\n",
    "\n",
    "[vbox]\n",
    "v112\n",
    "[vbox:vars]\n",
    "ansible_port=22 \n",
    "ansible_connection=ssh \n",
    "ansible_python_interpreter=/usr/bin/python3\n",
    "ansible_user=ubuntu\n",
    "\n",
    "\n",
    "[tim]\n",
    "u[101:130]\n",
    "[tim:vars]\n",
    "ansible_port=22 \n",
    "ansible_connection=ssh \n",
    "ansible_python_interpreter=/usr/bin/python3\n",
    "ansible_user=sis\n",
    "\n",
    "\n",
    "[ubuntu]\n",
    "server1\n",
    "\n",
    "[ubuntu:vars]\n",
    "ansible_port=22\n",
    "ansible_connection=ssh\n",
    "ansible_python_interpreter=/usr/bin/python3\n",
    "\n",
    "[amazon]\n",
    "amazon1\n",
    "\n",
    "[amazon:vars]\n",
    "ansible_port=22\n",
    "ansible_connection=ssh\n",
    "ansible_user=ubuntu\n",
    "ansible_ssh_private_key_file=/home/sis/.ssh/amazon1.pem\n",
    "ansible_python_interpreter=/usr/bin/python3\n",
    "\n"
   ]
  },
  {
   "cell_type": "markdown",
   "metadata": {},
   "source": [
    "***\n",
    "### ssh-keys feltöltése:"
   ]
  },
  {
   "cell_type": "code",
   "execution_count": null,
   "metadata": {},
   "outputs": [],
   "source": [
    "%%file ./upload_ssh-keys.yml\n",
    "---\n",
    "- hosts: v112\n",
    "  remote_user: ubuntu\n",
    "  tasks:\n",
    "  - name: upload ssh key                \n",
    "    authorized_key:\n",
    "      user: ubuntu\n",
    "      state: present\n",
    "      manage_dir: yes\n",
    "      key: https://github.com/englert.keys\n"
   ]
  },
  {
   "cell_type": "code",
   "execution_count": null,
   "metadata": {},
   "outputs": [],
   "source": [
    "%%bash\n",
    "xterm -e \"ansible-playbook -i ./hosts ./upload_ssh-keys.yml -k\""
   ]
  },
  {
   "cell_type": "markdown",
   "metadata": {},
   "source": [
    "***\n",
    "### Host ellenőrzése: ansible ping "
   ]
  },
  {
   "cell_type": "code",
   "execution_count": null,
   "metadata": {},
   "outputs": [],
   "source": [
    "!ansible -i ./hosts --become -m ping -vvv amazon1"
   ]
  },
  {
   "cell_type": "code",
   "execution_count": null,
   "metadata": {},
   "outputs": [],
   "source": []
  },
  {
   "cell_type": "markdown",
   "metadata": {},
   "source": [
    "***\n",
    "### Ansible jelszó nélküli sudo "
   ]
  },
  {
   "cell_type": "code",
   "execution_count": null,
   "metadata": {},
   "outputs": [],
   "source": [
    "%%file ./sudo-group.j2\n",
    "# {{ ansible_managed }}\n",
    "%sudo ALL=(ALL) NOPASSWD:ALL"
   ]
  },
  {
   "cell_type": "code",
   "execution_count": null,
   "metadata": {},
   "outputs": [],
   "source": [
    "%%file ./passwordless-sudo.yml\n",
    "---\n",
    "- hosts: v112\n",
    "  #remote_user: ubuntu\n",
    "  tasks:\n",
    "\n",
    "  - name:  Legyen sudo csoport\n",
    "    group:\n",
    "      name: sudo\n",
    "      state: present\n",
    "\n",
    "  - name: A sudo csoport felhasználói jelszó nélkül használhatják a sudo-t.\n",
    "    template:\n",
    "      src: sudo-group.j2\n",
    "      dest: /etc/sudoers.d/95-sudo-group\n",
    "      mode: 0440"
   ]
  },
  {
   "cell_type": "code",
   "execution_count": null,
   "metadata": {},
   "outputs": [],
   "source": [
    "%%bash\n",
    "xterm -e \"ansible-playbook -i ./hosts ./passwordless-sudo.yml -K -l localhost\""
   ]
  },
  {
   "cell_type": "markdown",
   "metadata": {},
   "source": [
    "***\n",
    "### Program telepítése Ansible ad-hoc módban\n",
    "ansible -i ./hosts --become -m apt -a\"name=mc state=present\" amazon1"
   ]
  },
  {
   "cell_type": "code",
   "execution_count": null,
   "metadata": {},
   "outputs": [],
   "source": [
    "!ansible -i ./hosts --become -m apt -a\"name=mc state=present\" amazon1"
   ]
  },
  {
   "cell_type": "code",
   "execution_count": null,
   "metadata": {},
   "outputs": [],
   "source": []
  },
  {
   "cell_type": "markdown",
   "metadata": {},
   "source": [
    "***\n",
    "### Nginx telepítés ansible-playbookkal: "
   ]
  },
  {
   "cell_type": "code",
   "execution_count": null,
   "metadata": {},
   "outputs": [],
   "source": [
    "%%file ./index.html\n",
    "<html>\n",
    "valami\n",
    "</html>"
   ]
  },
  {
   "cell_type": "code",
   "execution_count": null,
   "metadata": {},
   "outputs": [],
   "source": [
    "%%file ./nginx.yml\n",
    "---\n",
    "- name: Install nginx\n",
    "  hosts: amazon1\n",
    "  become: true\n",
    "\n",
    "  tasks:\n",
    "  \n",
    "  - name: Install nginx\n",
    "    apt:\n",
    "      name: nginx\n",
    "      state: present\n",
    "\n",
    "  - name: Insert Index Page\n",
    "    template:\n",
    "      src: index.html\n",
    "      dest: /usr/share/nginx/html/index.html\n",
    "\n",
    "  - name: Start NGiNX\n",
    "    service:\n",
    "      name: nginx\n",
    "      state: started\n"
   ]
  },
  {
   "cell_type": "code",
   "execution_count": null,
   "metadata": {},
   "outputs": [],
   "source": [
    "!ansible-playbook -i ./hosts ./nginx.yml -l amazon"
   ]
  },
  {
   "cell_type": "code",
   "execution_count": null,
   "metadata": {},
   "outputs": [],
   "source": []
  },
  {
   "cell_type": "code",
   "execution_count": null,
   "metadata": {},
   "outputs": [],
   "source": []
  },
  {
   "cell_type": "code",
   "execution_count": null,
   "metadata": {},
   "outputs": [],
   "source": []
  }
 ],
 "metadata": {
  "kernelspec": {
   "display_name": "Python 3",
   "language": "python",
   "name": "python3"
  },
  "language_info": {
   "codemirror_mode": {
    "name": "ipython",
    "version": 3
   },
   "file_extension": ".py",
   "mimetype": "text/x-python",
   "name": "python",
   "nbconvert_exporter": "python",
   "pygments_lexer": "ipython3",
   "version": "3.5.2"
  }
 },
 "nbformat": 4,
 "nbformat_minor": 2
}
